{
 "cells": [
  {
   "cell_type": "code",
   "execution_count": 1,
   "id": "7b4ae4bd",
   "metadata": {
    "_cell_guid": "b1076dfc-b9ad-4769-8c92-a6c4dae69d19",
    "_uuid": "8f2839f25d086af736a60e9eeb907d3b93b6e0e5",
    "execution": {
     "iopub.execute_input": "2023-10-19T10:38:11.105730Z",
     "iopub.status.busy": "2023-10-19T10:38:11.104936Z",
     "iopub.status.idle": "2023-10-19T10:38:11.478136Z",
     "shell.execute_reply": "2023-10-19T10:38:11.476962Z"
    },
    "papermill": {
     "duration": 0.382779,
     "end_time": "2023-10-19T10:38:11.480549",
     "exception": false,
     "start_time": "2023-10-19T10:38:11.097770",
     "status": "completed"
    },
    "tags": []
   },
   "outputs": [
    {
     "name": "stdout",
     "output_type": "stream",
     "text": [
      "/kaggle/input/advertising-sales-dataset/Advertising Budget and Sales.csv\n"
     ]
    }
   ],
   "source": [
    "# This Python 3 environment comes with many helpful analytics libraries installed\n",
    "# It is defined by the kaggle/python Docker image: https://github.com/kaggle/docker-python\n",
    "# For example, here's several helpful packages to load\n",
    "\n",
    "import numpy as np # linear algebra\n",
    "import pandas as pd # data processing, CSV file I/O (e.g. pd.read_csv)\n",
    "\n",
    "# Input data files are available in the read-only \"../input/\" directory\n",
    "# For example, running this (by clicking run or pressing Shift+Enter) will list all files under the input directory\n",
    "\n",
    "import os\n",
    "for dirname, _, filenames in os.walk('/kaggle/input'):\n",
    "    for filename in filenames:\n",
    "        print(os.path.join(dirname, filename))\n",
    "\n",
    "# You can write up to 20GB to the current directory (/kaggle/working/) that gets preserved as output when you create a version using \"Save & Run All\" \n",
    "# You can also write temporary files to /kaggle/temp/, but they won't be saved outside of the current session"
   ]
  },
  {
   "cell_type": "code",
   "execution_count": 2,
   "id": "183ec31d",
   "metadata": {
    "execution": {
     "iopub.execute_input": "2023-10-19T10:38:11.493527Z",
     "iopub.status.busy": "2023-10-19T10:38:11.491469Z",
     "iopub.status.idle": "2023-10-19T10:38:11.497105Z",
     "shell.execute_reply": "2023-10-19T10:38:11.496370Z"
    },
    "papermill": {
     "duration": 0.013577,
     "end_time": "2023-10-19T10:38:11.499022",
     "exception": false,
     "start_time": "2023-10-19T10:38:11.485445",
     "status": "completed"
    },
    "tags": []
   },
   "outputs": [],
   "source": [
    "import pandas as pd\n",
    "import numpy as np\n",
    "import matplotlib.pyplot  as plt "
   ]
  },
  {
   "cell_type": "code",
   "execution_count": 3,
   "id": "81a06bd2",
   "metadata": {
    "execution": {
     "iopub.execute_input": "2023-10-19T10:38:11.510375Z",
     "iopub.status.busy": "2023-10-19T10:38:11.509982Z",
     "iopub.status.idle": "2023-10-19T10:38:11.530676Z",
     "shell.execute_reply": "2023-10-19T10:38:11.529516Z"
    },
    "papermill": {
     "duration": 0.029356,
     "end_time": "2023-10-19T10:38:11.533032",
     "exception": false,
     "start_time": "2023-10-19T10:38:11.503676",
     "status": "completed"
    },
    "tags": []
   },
   "outputs": [],
   "source": [
    "df = pd.read_csv('/kaggle/input/advertising-sales-dataset/Advertising Budget and Sales.csv')"
   ]
  },
  {
   "cell_type": "code",
   "execution_count": 4,
   "id": "da40ac71",
   "metadata": {
    "execution": {
     "iopub.execute_input": "2023-10-19T10:38:11.544546Z",
     "iopub.status.busy": "2023-10-19T10:38:11.544166Z",
     "iopub.status.idle": "2023-10-19T10:38:11.565617Z",
     "shell.execute_reply": "2023-10-19T10:38:11.564517Z"
    },
    "papermill": {
     "duration": 0.029545,
     "end_time": "2023-10-19T10:38:11.567778",
     "exception": false,
     "start_time": "2023-10-19T10:38:11.538233",
     "status": "completed"
    },
    "tags": []
   },
   "outputs": [
    {
     "data": {
      "text/html": [
       "<div>\n",
       "<style scoped>\n",
       "    .dataframe tbody tr th:only-of-type {\n",
       "        vertical-align: middle;\n",
       "    }\n",
       "\n",
       "    .dataframe tbody tr th {\n",
       "        vertical-align: top;\n",
       "    }\n",
       "\n",
       "    .dataframe thead th {\n",
       "        text-align: right;\n",
       "    }\n",
       "</style>\n",
       "<table border=\"1\" class=\"dataframe\">\n",
       "  <thead>\n",
       "    <tr style=\"text-align: right;\">\n",
       "      <th></th>\n",
       "      <th>Unnamed: 0</th>\n",
       "      <th>TV Ad Budget ($)</th>\n",
       "      <th>Radio Ad Budget ($)</th>\n",
       "      <th>Newspaper Ad Budget ($)</th>\n",
       "      <th>Sales ($)</th>\n",
       "    </tr>\n",
       "  </thead>\n",
       "  <tbody>\n",
       "    <tr>\n",
       "      <th>0</th>\n",
       "      <td>1</td>\n",
       "      <td>230.1</td>\n",
       "      <td>37.8</td>\n",
       "      <td>69.2</td>\n",
       "      <td>22.1</td>\n",
       "    </tr>\n",
       "    <tr>\n",
       "      <th>1</th>\n",
       "      <td>2</td>\n",
       "      <td>44.5</td>\n",
       "      <td>39.3</td>\n",
       "      <td>45.1</td>\n",
       "      <td>10.4</td>\n",
       "    </tr>\n",
       "    <tr>\n",
       "      <th>2</th>\n",
       "      <td>3</td>\n",
       "      <td>17.2</td>\n",
       "      <td>45.9</td>\n",
       "      <td>69.3</td>\n",
       "      <td>9.3</td>\n",
       "    </tr>\n",
       "    <tr>\n",
       "      <th>3</th>\n",
       "      <td>4</td>\n",
       "      <td>151.5</td>\n",
       "      <td>41.3</td>\n",
       "      <td>58.5</td>\n",
       "      <td>18.5</td>\n",
       "    </tr>\n",
       "    <tr>\n",
       "      <th>4</th>\n",
       "      <td>5</td>\n",
       "      <td>180.8</td>\n",
       "      <td>10.8</td>\n",
       "      <td>58.4</td>\n",
       "      <td>12.9</td>\n",
       "    </tr>\n",
       "  </tbody>\n",
       "</table>\n",
       "</div>"
      ],
      "text/plain": [
       "   Unnamed: 0  TV Ad Budget ($)  Radio Ad Budget ($)  Newspaper Ad Budget ($)  \\\n",
       "0           1             230.1                 37.8                     69.2   \n",
       "1           2              44.5                 39.3                     45.1   \n",
       "2           3              17.2                 45.9                     69.3   \n",
       "3           4             151.5                 41.3                     58.5   \n",
       "4           5             180.8                 10.8                     58.4   \n",
       "\n",
       "   Sales ($)  \n",
       "0       22.1  \n",
       "1       10.4  \n",
       "2        9.3  \n",
       "3       18.5  \n",
       "4       12.9  "
      ]
     },
     "execution_count": 4,
     "metadata": {},
     "output_type": "execute_result"
    }
   ],
   "source": [
    "df.head()"
   ]
  },
  {
   "cell_type": "code",
   "execution_count": 5,
   "id": "f228667d",
   "metadata": {
    "execution": {
     "iopub.execute_input": "2023-10-19T10:38:11.579645Z",
     "iopub.status.busy": "2023-10-19T10:38:11.578880Z",
     "iopub.status.idle": "2023-10-19T10:38:11.586084Z",
     "shell.execute_reply": "2023-10-19T10:38:11.585217Z"
    },
    "papermill": {
     "duration": 0.015853,
     "end_time": "2023-10-19T10:38:11.588391",
     "exception": false,
     "start_time": "2023-10-19T10:38:11.572538",
     "status": "completed"
    },
    "tags": []
   },
   "outputs": [],
   "source": [
    "X= df.iloc[:,1:4]"
   ]
  },
  {
   "cell_type": "code",
   "execution_count": 6,
   "id": "db20e9b8",
   "metadata": {
    "execution": {
     "iopub.execute_input": "2023-10-19T10:38:11.601684Z",
     "iopub.status.busy": "2023-10-19T10:38:11.600947Z",
     "iopub.status.idle": "2023-10-19T10:38:11.605737Z",
     "shell.execute_reply": "2023-10-19T10:38:11.604756Z"
    },
    "papermill": {
     "duration": 0.013508,
     "end_time": "2023-10-19T10:38:11.607647",
     "exception": false,
     "start_time": "2023-10-19T10:38:11.594139",
     "status": "completed"
    },
    "tags": []
   },
   "outputs": [],
   "source": [
    "y = df['Sales ($)']"
   ]
  },
  {
   "cell_type": "code",
   "execution_count": 7,
   "id": "7b20e0eb",
   "metadata": {
    "execution": {
     "iopub.execute_input": "2023-10-19T10:38:11.619175Z",
     "iopub.status.busy": "2023-10-19T10:38:11.618662Z",
     "iopub.status.idle": "2023-10-19T10:38:11.623034Z",
     "shell.execute_reply": "2023-10-19T10:38:11.622436Z"
    },
    "papermill": {
     "duration": 0.012153,
     "end_time": "2023-10-19T10:38:11.624703",
     "exception": false,
     "start_time": "2023-10-19T10:38:11.612550",
     "status": "completed"
    },
    "tags": []
   },
   "outputs": [
    {
     "data": {
      "text/plain": [
       "(200, 3)"
      ]
     },
     "execution_count": 7,
     "metadata": {},
     "output_type": "execute_result"
    }
   ],
   "source": [
    "X.shape"
   ]
  },
  {
   "cell_type": "code",
   "execution_count": 8,
   "id": "e8762550",
   "metadata": {
    "execution": {
     "iopub.execute_input": "2023-10-19T10:38:11.636316Z",
     "iopub.status.busy": "2023-10-19T10:38:11.635808Z",
     "iopub.status.idle": "2023-10-19T10:38:12.666387Z",
     "shell.execute_reply": "2023-10-19T10:38:12.665283Z"
    },
    "papermill": {
     "duration": 1.038992,
     "end_time": "2023-10-19T10:38:12.668700",
     "exception": false,
     "start_time": "2023-10-19T10:38:11.629708",
     "status": "completed"
    },
    "tags": []
   },
   "outputs": [],
   "source": [
    "from sklearn.model_selection import train_test_split \n",
    "X_train,X_test,y_train,y_test = train_test_split(X,y,test_size=0.2,random_state= 100)"
   ]
  },
  {
   "cell_type": "code",
   "execution_count": 9,
   "id": "76932c7a",
   "metadata": {
    "execution": {
     "iopub.execute_input": "2023-10-19T10:38:12.680330Z",
     "iopub.status.busy": "2023-10-19T10:38:12.679763Z",
     "iopub.status.idle": "2023-10-19T10:38:12.757944Z",
     "shell.execute_reply": "2023-10-19T10:38:12.757078Z"
    },
    "papermill": {
     "duration": 0.086818,
     "end_time": "2023-10-19T10:38:12.760370",
     "exception": false,
     "start_time": "2023-10-19T10:38:12.673552",
     "status": "completed"
    },
    "tags": []
   },
   "outputs": [],
   "source": [
    "from sklearn.linear_model import LinearRegression"
   ]
  },
  {
   "cell_type": "code",
   "execution_count": 10,
   "id": "e4d4b298",
   "metadata": {
    "execution": {
     "iopub.execute_input": "2023-10-19T10:38:12.772849Z",
     "iopub.status.busy": "2023-10-19T10:38:12.771687Z",
     "iopub.status.idle": "2023-10-19T10:38:12.776665Z",
     "shell.execute_reply": "2023-10-19T10:38:12.775776Z"
    },
    "papermill": {
     "duration": 0.013092,
     "end_time": "2023-10-19T10:38:12.778666",
     "exception": false,
     "start_time": "2023-10-19T10:38:12.765574",
     "status": "completed"
    },
    "tags": []
   },
   "outputs": [],
   "source": [
    "lr = LinearRegression()"
   ]
  },
  {
   "cell_type": "code",
   "execution_count": 11,
   "id": "8238712f",
   "metadata": {
    "execution": {
     "iopub.execute_input": "2023-10-19T10:38:12.790439Z",
     "iopub.status.busy": "2023-10-19T10:38:12.790074Z",
     "iopub.status.idle": "2023-10-19T10:38:12.823313Z",
     "shell.execute_reply": "2023-10-19T10:38:12.822282Z"
    },
    "papermill": {
     "duration": 0.041687,
     "end_time": "2023-10-19T10:38:12.825363",
     "exception": false,
     "start_time": "2023-10-19T10:38:12.783676",
     "status": "completed"
    },
    "tags": []
   },
   "outputs": [
    {
     "data": {
      "text/html": [
       "<style>#sk-container-id-1 {color: black;background-color: white;}#sk-container-id-1 pre{padding: 0;}#sk-container-id-1 div.sk-toggleable {background-color: white;}#sk-container-id-1 label.sk-toggleable__label {cursor: pointer;display: block;width: 100%;margin-bottom: 0;padding: 0.3em;box-sizing: border-box;text-align: center;}#sk-container-id-1 label.sk-toggleable__label-arrow:before {content: \"▸\";float: left;margin-right: 0.25em;color: #696969;}#sk-container-id-1 label.sk-toggleable__label-arrow:hover:before {color: black;}#sk-container-id-1 div.sk-estimator:hover label.sk-toggleable__label-arrow:before {color: black;}#sk-container-id-1 div.sk-toggleable__content {max-height: 0;max-width: 0;overflow: hidden;text-align: left;background-color: #f0f8ff;}#sk-container-id-1 div.sk-toggleable__content pre {margin: 0.2em;color: black;border-radius: 0.25em;background-color: #f0f8ff;}#sk-container-id-1 input.sk-toggleable__control:checked~div.sk-toggleable__content {max-height: 200px;max-width: 100%;overflow: auto;}#sk-container-id-1 input.sk-toggleable__control:checked~label.sk-toggleable__label-arrow:before {content: \"▾\";}#sk-container-id-1 div.sk-estimator input.sk-toggleable__control:checked~label.sk-toggleable__label {background-color: #d4ebff;}#sk-container-id-1 div.sk-label input.sk-toggleable__control:checked~label.sk-toggleable__label {background-color: #d4ebff;}#sk-container-id-1 input.sk-hidden--visually {border: 0;clip: rect(1px 1px 1px 1px);clip: rect(1px, 1px, 1px, 1px);height: 1px;margin: -1px;overflow: hidden;padding: 0;position: absolute;width: 1px;}#sk-container-id-1 div.sk-estimator {font-family: monospace;background-color: #f0f8ff;border: 1px dotted black;border-radius: 0.25em;box-sizing: border-box;margin-bottom: 0.5em;}#sk-container-id-1 div.sk-estimator:hover {background-color: #d4ebff;}#sk-container-id-1 div.sk-parallel-item::after {content: \"\";width: 100%;border-bottom: 1px solid gray;flex-grow: 1;}#sk-container-id-1 div.sk-label:hover label.sk-toggleable__label {background-color: #d4ebff;}#sk-container-id-1 div.sk-serial::before {content: \"\";position: absolute;border-left: 1px solid gray;box-sizing: border-box;top: 0;bottom: 0;left: 50%;z-index: 0;}#sk-container-id-1 div.sk-serial {display: flex;flex-direction: column;align-items: center;background-color: white;padding-right: 0.2em;padding-left: 0.2em;position: relative;}#sk-container-id-1 div.sk-item {position: relative;z-index: 1;}#sk-container-id-1 div.sk-parallel {display: flex;align-items: stretch;justify-content: center;background-color: white;position: relative;}#sk-container-id-1 div.sk-item::before, #sk-container-id-1 div.sk-parallel-item::before {content: \"\";position: absolute;border-left: 1px solid gray;box-sizing: border-box;top: 0;bottom: 0;left: 50%;z-index: -1;}#sk-container-id-1 div.sk-parallel-item {display: flex;flex-direction: column;z-index: 1;position: relative;background-color: white;}#sk-container-id-1 div.sk-parallel-item:first-child::after {align-self: flex-end;width: 50%;}#sk-container-id-1 div.sk-parallel-item:last-child::after {align-self: flex-start;width: 50%;}#sk-container-id-1 div.sk-parallel-item:only-child::after {width: 0;}#sk-container-id-1 div.sk-dashed-wrapped {border: 1px dashed gray;margin: 0 0.4em 0.5em 0.4em;box-sizing: border-box;padding-bottom: 0.4em;background-color: white;}#sk-container-id-1 div.sk-label label {font-family: monospace;font-weight: bold;display: inline-block;line-height: 1.2em;}#sk-container-id-1 div.sk-label-container {text-align: center;}#sk-container-id-1 div.sk-container {/* jupyter's `normalize.less` sets `[hidden] { display: none; }` but bootstrap.min.css set `[hidden] { display: none !important; }` so we also need the `!important` here to be able to override the default hidden behavior on the sphinx rendered scikit-learn.org. See: https://github.com/scikit-learn/scikit-learn/issues/21755 */display: inline-block !important;position: relative;}#sk-container-id-1 div.sk-text-repr-fallback {display: none;}</style><div id=\"sk-container-id-1\" class=\"sk-top-container\"><div class=\"sk-text-repr-fallback\"><pre>LinearRegression()</pre><b>In a Jupyter environment, please rerun this cell to show the HTML representation or trust the notebook. <br />On GitHub, the HTML representation is unable to render, please try loading this page with nbviewer.org.</b></div><div class=\"sk-container\" hidden><div class=\"sk-item\"><div class=\"sk-estimator sk-toggleable\"><input class=\"sk-toggleable__control sk-hidden--visually\" id=\"sk-estimator-id-1\" type=\"checkbox\" checked><label for=\"sk-estimator-id-1\" class=\"sk-toggleable__label sk-toggleable__label-arrow\">LinearRegression</label><div class=\"sk-toggleable__content\"><pre>LinearRegression()</pre></div></div></div></div></div>"
      ],
      "text/plain": [
       "LinearRegression()"
      ]
     },
     "execution_count": 11,
     "metadata": {},
     "output_type": "execute_result"
    }
   ],
   "source": [
    "lr.fit(X_train,y_train)"
   ]
  },
  {
   "cell_type": "code",
   "execution_count": 12,
   "id": "05eb0b2a",
   "metadata": {
    "execution": {
     "iopub.execute_input": "2023-10-19T10:38:12.837223Z",
     "iopub.status.busy": "2023-10-19T10:38:12.836581Z",
     "iopub.status.idle": "2023-10-19T10:38:12.842863Z",
     "shell.execute_reply": "2023-10-19T10:38:12.842050Z"
    },
    "papermill": {
     "duration": 0.014313,
     "end_time": "2023-10-19T10:38:12.844805",
     "exception": false,
     "start_time": "2023-10-19T10:38:12.830492",
     "status": "completed"
    },
    "tags": []
   },
   "outputs": [
    {
     "data": {
      "text/plain": [
       "array([0.0455864 , 0.18569816, 0.00223281])"
      ]
     },
     "execution_count": 12,
     "metadata": {},
     "output_type": "execute_result"
    }
   ],
   "source": [
    "lr.coef_"
   ]
  },
  {
   "cell_type": "code",
   "execution_count": 13,
   "id": "ca9eecc7",
   "metadata": {
    "execution": {
     "iopub.execute_input": "2023-10-19T10:38:12.856699Z",
     "iopub.status.busy": "2023-10-19T10:38:12.856018Z",
     "iopub.status.idle": "2023-10-19T10:38:12.862615Z",
     "shell.execute_reply": "2023-10-19T10:38:12.861606Z"
    },
    "papermill": {
     "duration": 0.014695,
     "end_time": "2023-10-19T10:38:12.864598",
     "exception": false,
     "start_time": "2023-10-19T10:38:12.849903",
     "status": "completed"
    },
    "tags": []
   },
   "outputs": [
    {
     "data": {
      "text/plain": [
       "2.817275135294997"
      ]
     },
     "execution_count": 13,
     "metadata": {},
     "output_type": "execute_result"
    }
   ],
   "source": [
    "lr.intercept_"
   ]
  },
  {
   "cell_type": "code",
   "execution_count": 14,
   "id": "e456347b",
   "metadata": {
    "execution": {
     "iopub.execute_input": "2023-10-19T10:38:12.876692Z",
     "iopub.status.busy": "2023-10-19T10:38:12.876327Z",
     "iopub.status.idle": "2023-10-19T10:38:12.882639Z",
     "shell.execute_reply": "2023-10-19T10:38:12.881763Z"
    },
    "papermill": {
     "duration": 0.014695,
     "end_time": "2023-10-19T10:38:12.884725",
     "exception": false,
     "start_time": "2023-10-19T10:38:12.870030",
     "status": "completed"
    },
    "tags": []
   },
   "outputs": [],
   "source": [
    "y_pred = lr.predict(X_test)"
   ]
  },
  {
   "cell_type": "code",
   "execution_count": 15,
   "id": "6256b2a4",
   "metadata": {
    "execution": {
     "iopub.execute_input": "2023-10-19T10:38:12.897737Z",
     "iopub.status.busy": "2023-10-19T10:38:12.897362Z",
     "iopub.status.idle": "2023-10-19T10:38:12.902028Z",
     "shell.execute_reply": "2023-10-19T10:38:12.901108Z"
    },
    "papermill": {
     "duration": 0.013299,
     "end_time": "2023-10-19T10:38:12.903989",
     "exception": false,
     "start_time": "2023-10-19T10:38:12.890690",
     "status": "completed"
    },
    "tags": []
   },
   "outputs": [],
   "source": [
    "from sklearn.metrics import r2_score"
   ]
  },
  {
   "cell_type": "code",
   "execution_count": 16,
   "id": "df46c130",
   "metadata": {
    "execution": {
     "iopub.execute_input": "2023-10-19T10:38:12.916542Z",
     "iopub.status.busy": "2023-10-19T10:38:12.915810Z",
     "iopub.status.idle": "2023-10-19T10:38:12.922732Z",
     "shell.execute_reply": "2023-10-19T10:38:12.921714Z"
    },
    "papermill": {
     "duration": 0.015542,
     "end_time": "2023-10-19T10:38:12.924884",
     "exception": false,
     "start_time": "2023-10-19T10:38:12.909342",
     "status": "completed"
    },
    "tags": []
   },
   "outputs": [
    {
     "data": {
      "text/plain": [
       "0.9184369032278497"
      ]
     },
     "execution_count": 16,
     "metadata": {},
     "output_type": "execute_result"
    }
   ],
   "source": [
    "r2_score(y_test,y_pred)"
   ]
  },
  {
   "cell_type": "code",
   "execution_count": 17,
   "id": "5f06676f",
   "metadata": {
    "execution": {
     "iopub.execute_input": "2023-10-19T10:38:12.937809Z",
     "iopub.status.busy": "2023-10-19T10:38:12.937152Z",
     "iopub.status.idle": "2023-10-19T10:38:13.019547Z",
     "shell.execute_reply": "2023-10-19T10:38:13.018458Z"
    },
    "papermill": {
     "duration": 0.091516,
     "end_time": "2023-10-19T10:38:13.021898",
     "exception": false,
     "start_time": "2023-10-19T10:38:12.930382",
     "status": "completed"
    },
    "tags": []
   },
   "outputs": [],
   "source": [
    "class GDR:\n",
    "    def __init__(self,learning_rate,epochs):\n",
    "        self.intercept_ = None\n",
    "        self.coef_ = None\n",
    "        self.lr = learning_rate\n",
    "        self.epochs = epochs\n",
    "        \n",
    "    def fit(self,X_train,y_train):\n",
    "        self.intercept_ = 0\n",
    "        self.coef_ = np.ones(X_train.shape[1])\n",
    "        \n",
    "        for i in range (self.epochs):\n",
    "            y_hat = np.dot(X_train,self.coef_) + self.intercept_\n",
    "            slope_fun = -2*np.mean(y_train - y_hat)\n",
    "            self.intercept_ = self.intercept_ -(self.lr*slope_fun)\n",
    "            \n",
    "            slope_fun_coef = -2*(np.dot((y_train- y_hat), X_train))/X_train.shape[0]\n",
    "            self.coef_ = self.coef_ - (self.lr * slope_fun_coef)\n",
    "            \n",
    "        print (self.intercept_, self.coef_)    \n",
    "        \n",
    "        \n",
    "    \n",
    "    def predict(self,X_test):\n",
    "        return np.dot(X_test,self.coef_) + self.intercept_\n",
    "\n",
    "\n"
   ]
  },
  {
   "cell_type": "code",
   "execution_count": 18,
   "id": "f33912eb",
   "metadata": {
    "execution": {
     "iopub.execute_input": "2023-10-19T10:38:13.034791Z",
     "iopub.status.busy": "2023-10-19T10:38:13.034232Z",
     "iopub.status.idle": "2023-10-19T10:38:13.037824Z",
     "shell.execute_reply": "2023-10-19T10:38:13.037114Z"
    },
    "papermill": {
     "duration": 0.012308,
     "end_time": "2023-10-19T10:38:13.039691",
     "exception": false,
     "start_time": "2023-10-19T10:38:13.027383",
     "status": "completed"
    },
    "tags": []
   },
   "outputs": [],
   "source": [
    "gd = GDR(0.000001,600000)"
   ]
  },
  {
   "cell_type": "code",
   "execution_count": 19,
   "id": "7b340898",
   "metadata": {
    "execution": {
     "iopub.execute_input": "2023-10-19T10:38:13.052930Z",
     "iopub.status.busy": "2023-10-19T10:38:13.052360Z",
     "iopub.status.idle": "2023-10-19T10:41:17.357256Z",
     "shell.execute_reply": "2023-10-19T10:41:17.355897Z"
    },
    "papermill": {
     "duration": 184.3175,
     "end_time": "2023-10-19T10:41:17.362824",
     "exception": false,
     "start_time": "2023-10-19T10:38:13.045324",
     "status": "completed"
    },
    "tags": []
   },
   "outputs": [
    {
     "name": "stdout",
     "output_type": "stream",
     "text": [
      "0.4602477155154809 [0.05165796 0.21521984 0.01583369]\n"
     ]
    }
   ],
   "source": [
    "gd.fit(X_train,y_train)"
   ]
  },
  {
   "cell_type": "code",
   "execution_count": 20,
   "id": "7abd541a",
   "metadata": {
    "execution": {
     "iopub.execute_input": "2023-10-19T10:41:17.375936Z",
     "iopub.status.busy": "2023-10-19T10:41:17.375572Z",
     "iopub.status.idle": "2023-10-19T10:41:17.380708Z",
     "shell.execute_reply": "2023-10-19T10:41:17.379568Z"
    },
    "papermill": {
     "duration": 0.014367,
     "end_time": "2023-10-19T10:41:17.382818",
     "exception": false,
     "start_time": "2023-10-19T10:41:17.368451",
     "status": "completed"
    },
    "tags": []
   },
   "outputs": [],
   "source": [
    "y_pred = gd.predict(X_test)\n"
   ]
  },
  {
   "cell_type": "code",
   "execution_count": 21,
   "id": "9c801892",
   "metadata": {
    "execution": {
     "iopub.execute_input": "2023-10-19T10:41:17.396459Z",
     "iopub.status.busy": "2023-10-19T10:41:17.396090Z",
     "iopub.status.idle": "2023-10-19T10:41:17.405010Z",
     "shell.execute_reply": "2023-10-19T10:41:17.403799Z"
    },
    "papermill": {
     "duration": 0.01851,
     "end_time": "2023-10-19T10:41:17.407480",
     "exception": false,
     "start_time": "2023-10-19T10:41:17.388970",
     "status": "completed"
    },
    "tags": []
   },
   "outputs": [
    {
     "data": {
      "text/plain": [
       "0.8678522383253992"
      ]
     },
     "execution_count": 21,
     "metadata": {},
     "output_type": "execute_result"
    }
   ],
   "source": [
    "r2_score(y_test,y_pred)\n"
   ]
  },
  {
   "cell_type": "code",
   "execution_count": null,
   "id": "9cc809a3",
   "metadata": {
    "papermill": {
     "duration": 0.005381,
     "end_time": "2023-10-19T10:41:17.418810",
     "exception": false,
     "start_time": "2023-10-19T10:41:17.413429",
     "status": "completed"
    },
    "tags": []
   },
   "outputs": [],
   "source": []
  }
 ],
 "metadata": {
  "kernelspec": {
   "display_name": "Python 3",
   "language": "python",
   "name": "python3"
  },
  "language_info": {
   "codemirror_mode": {
    "name": "ipython",
    "version": 3
   },
   "file_extension": ".py",
   "mimetype": "text/x-python",
   "name": "python",
   "nbconvert_exporter": "python",
   "pygments_lexer": "ipython3",
   "version": "3.10.12"
  },
  "papermill": {
   "default_parameters": {},
   "duration": 189.957544,
   "end_time": "2023-10-19T10:41:18.046291",
   "environment_variables": {},
   "exception": null,
   "input_path": "__notebook__.ipynb",
   "output_path": "__notebook__.ipynb",
   "parameters": {},
   "start_time": "2023-10-19T10:38:08.088747",
   "version": "2.4.0"
  }
 },
 "nbformat": 4,
 "nbformat_minor": 5
}
